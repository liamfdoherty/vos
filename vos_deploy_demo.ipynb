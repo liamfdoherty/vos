{
 "cells": [
  {
   "cell_type": "code",
   "execution_count": 1,
   "metadata": {},
   "outputs": [],
   "source": [
    "import torch\n",
    "import torch.nn as nn\n",
    "from torch.optim import Adam\n",
    "from torchvision.datasets import MNIST, FashionMNIST ,CIFAR10\n",
    "from torchvision.models import resnet18\n",
    "from torchvision.transforms import *\n",
    "from torchvision.utils import make_grid\n",
    "from torch.utils.data import TensorDataset, DataLoader\n",
    "import torch.nn.functional as F\n",
    "import matplotlib.pyplot as plt\n",
    "import random\n",
    "import numpy as np\n",
    "import itertools\n",
    "from vos import VOS"
   ]
  },
  {
   "cell_type": "markdown",
   "metadata": {},
   "source": [
    "# Load ID (MNIST) and OOD (Fashion MNIST) datasets"
   ]
  },
  {
   "cell_type": "code",
   "execution_count": 2,
   "metadata": {},
   "outputs": [],
   "source": [
    "id_dataset = MNIST(root = \"~/datasets/MNIST\", train = True)\n",
    "ood_dataset = FashionMNIST(root = \"~/datasets/FashionMNIST\", train = True)\n",
    "transform = Compose([lambda x: x.float(), Normalize((0.1307,), (0.3081,))])\n",
    "\n",
    "samples = id_dataset.data\n",
    "targets = id_dataset.targets\n",
    "id_data = TensorDataset(transform(samples).unsqueeze(1), targets)\n",
    "\n",
    "ood_samples = ood_dataset.data\n",
    "ood_targets = ood_dataset.targets\n",
    "ood_data = TensorDataset(transform(ood_samples).unsqueeze(1), ood_targets)\n",
    "\n",
    "id_loader = DataLoader(id_data, batch_size = 64, shuffle = True)\n",
    "ood_loader = DataLoader(ood_data, batch_size = 64, shuffle = True)"
   ]
  },
  {
   "cell_type": "code",
   "execution_count": 3,
   "metadata": {},
   "outputs": [],
   "source": [
    "model = torch.load(\"vos_model.pt\", weights_only = False)"
   ]
  },
  {
   "cell_type": "code",
   "execution_count": 4,
   "metadata": {},
   "outputs": [],
   "source": [
    "class OODDetector(nn.Module):\n",
    "    def __init__(self, latent_dim = 512):\n",
    "        super().__init__()\n",
    "        self.latent_dim = latent_dim\n",
    "        self.mlp = nn.Sequential(nn.Linear(1, latent_dim),\n",
    "                                 nn.ReLU(),\n",
    "                                 nn.Linear(latent_dim, 1),\n",
    "                                 nn.ReLU())\n",
    "    \n",
    "    def forward(self, x):\n",
    "        out = self.mlp(x)\n",
    "        return out"
   ]
  },
  {
   "cell_type": "code",
   "execution_count": 5,
   "metadata": {},
   "outputs": [],
   "source": [
    "ood_detector = torch.load(\"vos_ood_detector.pt\", weights_only = False)"
   ]
  },
  {
   "cell_type": "code",
   "execution_count": 6,
   "metadata": {},
   "outputs": [],
   "source": [
    "def accuracy(pred, true):\n",
    "    return torch.sum(pred == true)/true.shape[0]"
   ]
  },
  {
   "cell_type": "code",
   "execution_count": 7,
   "metadata": {},
   "outputs": [],
   "source": [
    "id_batch = next(iter(id_loader))\n",
    "id_samples, id_targets = id_batch"
   ]
  },
  {
   "cell_type": "markdown",
   "metadata": {},
   "source": [
    "# Model is pretty good at classification"
   ]
  },
  {
   "cell_type": "code",
   "execution_count": 8,
   "metadata": {},
   "outputs": [
    {
     "name": "stdout",
     "output_type": "stream",
     "text": [
      "tensor(0.9531)\n"
     ]
    }
   ],
   "source": [
    "pred = torch.argmax(model(id_samples), dim = 1)\n",
    "true = id_targets\n",
    "acc = accuracy(pred, true)\n",
    "print(acc)"
   ]
  },
  {
   "cell_type": "markdown",
   "metadata": {},
   "source": [
    "# Want to see that the ID and OOD samples have different probabilities. I need to work this out a little bit more, to make sure that it is doing what we want"
   ]
  },
  {
   "cell_type": "code",
   "execution_count": 9,
   "metadata": {},
   "outputs": [
    {
     "data": {
      "text/plain": [
       "tensor([[0.0005],\n",
       "        [0.0353],\n",
       "        [0.0274],\n",
       "        [0.4302],\n",
       "        [0.1397],\n",
       "        [0.0270],\n",
       "        [0.0435],\n",
       "        [0.3001],\n",
       "        [0.0046],\n",
       "        [0.0074]], grad_fn=<DivBackward0>)"
      ]
     },
     "execution_count": 9,
     "metadata": {},
     "output_type": "execute_result"
    }
   ],
   "source": [
    "id_logits = model(id_samples)\n",
    "id_energy = -torch.logsumexp(id_logits, dim = 0).unsqueeze(1)\n",
    "id_scores = ood_detector(id_energy)\n",
    "id_prob = torch.exp(-id_scores)/(1 + torch.exp(-id_scores))\n",
    "id_prob"
   ]
  },
  {
   "cell_type": "code",
   "execution_count": 10,
   "metadata": {},
   "outputs": [
    {
     "data": {
      "text/plain": [
       "<matplotlib.image.AxesImage at 0x7f483a984550>"
      ]
     },
     "execution_count": 10,
     "metadata": {},
     "output_type": "execute_result"
    },
    {
     "data": {
      "image/png": "[encoded data removed]",
      "text/plain": [
       "<Figure size 640x480 with 1 Axes>"
      ]
     },
     "metadata": {},
     "output_type": "display_data"
    }
   ],
   "source": [
    "plt.imshow(id_samples[4][0])"
   ]
  },
  {
   "cell_type": "code",
   "execution_count": 11,
   "metadata": {},
   "outputs": [],
   "source": [
    "ood_batch = next(iter(ood_loader))\n",
    "ood_samples, ood_targets = ood_batch"
   ]
  },
  {
   "cell_type": "code",
   "execution_count": 12,
   "metadata": {},
   "outputs": [
    {
     "data": {
      "text/plain": [
       "<matplotlib.image.AxesImage at 0x7f483a9f2410>"
      ]
     },
     "execution_count": 12,
     "metadata": {},
     "output_type": "execute_result"
    },
    {
     "data": {
      "image/png": "[encoded data removed]",
      "text/plain": [
       "<Figure size 640x480 with 1 Axes>"
      ]
     },
     "metadata": {},
     "output_type": "display_data"
    }
   ],
   "source": [
    "plt.imshow(ood_samples[3][0])"
   ]
  },
  {
   "cell_type": "code",
   "execution_count": 13,
   "metadata": {},
   "outputs": [
    {
     "data": {
      "text/plain": [
       "tensor([[0.5361],\n",
       "        [0.4996],\n",
       "        [0.4142],\n",
       "        [0.2037],\n",
       "        [0.3246],\n",
       "        [0.5480],\n",
       "        [0.5972],\n",
       "        [0.2141],\n",
       "        [0.4681],\n",
       "        [0.2282]], grad_fn=<DivBackward0>)"
      ]
     },
     "execution_count": 13,
     "metadata": {},
     "output_type": "execute_result"
    }
   ],
   "source": [
    "ood_logits = model(ood_samples)\n",
    "ood_energy = -torch.logsumexp(ood_logits, dim = 0).unsqueeze(1)\n",
    "ood_scores = ood_detector(ood_energy)\n",
    "ood_prob = torch.exp(-ood_scores)/(1 + torch.exp(-ood_scores))\n",
    "ood_prob"
   ]
  },
  {
   "cell_type": "code",
   "execution_count": 14,
   "metadata": {},
   "outputs": [
    {
     "data": {
      "text/plain": [
       "tensor([[7.6495],\n",
       "        [3.3079],\n",
       "        [3.5686],\n",
       "        [0.2810],\n",
       "        [1.8179],\n",
       "        [3.5851],\n",
       "        [3.0904],\n",
       "        [0.8467],\n",
       "        [5.3711],\n",
       "        [4.9056]], grad_fn=<AddmmBackward0>)"
      ]
     },
     "execution_count": 14,
     "metadata": {},
     "output_type": "execute_result"
    }
   ],
   "source": [
    "id_scores"
   ]
  },
  {
   "cell_type": "code",
   "execution_count": 15,
   "metadata": {},
   "outputs": [
    {
     "data": {
      "text/plain": [
       "tensor([[-0.1448],\n",
       "        [ 0.0015],\n",
       "        [ 0.3467],\n",
       "        [ 1.3634],\n",
       "        [ 0.7328],\n",
       "        [-0.1924],\n",
       "        [-0.3939],\n",
       "        [ 1.3006],\n",
       "        [ 0.1277],\n",
       "        [ 1.2184]], grad_fn=<AddmmBackward0>)"
      ]
     },
     "execution_count": 15,
     "metadata": {},
     "output_type": "execute_result"
    }
   ],
   "source": [
    "ood_scores"
   ]
  },
  {
   "cell_type": "markdown",
   "metadata": {},
   "source": [
    "# Want one group to be positive and the other negative. It seems that we have a definite difference in distribution, but we need to train a little longer, a little more stably, or something like that."
   ]
  },
  {
   "cell_type": "code",
   "execution_count": 16,
   "metadata": {},
   "outputs": [
    {
     "data": {
      "text/plain": [
       "tensor([[57.4689],\n",
       "        [26.0270],\n",
       "        [27.9122],\n",
       "        [-4.8672],\n",
       "        [15.2809],\n",
       "        [28.0320],\n",
       "        [24.4592],\n",
       "        [ 8.2114],\n",
       "        [40.9605],\n",
       "        [37.5908]], grad_fn=<NegBackward0>)"
      ]
     },
     "execution_count": 16,
     "metadata": {},
     "output_type": "execute_result"
    }
   ],
   "source": [
    "id_energy"
   ]
  },
  {
   "cell_type": "code",
   "execution_count": 17,
   "metadata": {},
   "outputs": [
    {
     "data": {
      "text/plain": [
       "tensor([[-1.4747],\n",
       "        [-2.6767],\n",
       "        [-5.3570],\n",
       "        [11.9805],\n",
       "        [ 7.3776],\n",
       "        [ 1.6936],\n",
       "        [ 0.5682],\n",
       "        [11.5237],\n",
       "        [-3.7096],\n",
       "        [10.9247]], grad_fn=<NegBackward0>)"
      ]
     },
     "execution_count": 17,
     "metadata": {},
     "output_type": "execute_result"
    }
   ],
   "source": [
    "ood_energy"
   ]
  },
  {
   "cell_type": "code",
   "execution_count": null,
   "metadata": {},
   "outputs": [],
   "source": []
  }
 ],
 "metadata": {
  "kernelspec": {
   "display_name": "machine-learning",
   "language": "python",
   "name": "python3"
  },
  "language_info": {
   "codemirror_mode": {
    "name": "ipython",
    "version": 3
   },
   "file_extension": ".py",
   "mimetype": "text/x-python",
   "name": "python",
   "nbconvert_exporter": "python",
   "pygments_lexer": "ipython3",
   "version": "3.11.4"
  }
 },
 "nbformat": 4,
 "nbformat_minor": 2
}
